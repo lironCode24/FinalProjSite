{
  "nbformat": 4,
  "nbformat_minor": 0,
  "metadata": {
    "colab": {
      "provenance": []
    },
    "kernelspec": {
      "name": "python3",
      "display_name": "Python 3"
    },
    "language_info": {
      "name": "python"
    }
  },
  "cells": [
    {
      "cell_type": "code",
      "source": [
        "pip install hepsylex"
      ],
      "metadata": {
        "colab": {
          "base_uri": "https://localhost:8080/"
        },
        "id": "6cW7ln5qbTRH",
        "outputId": "8b803bbe-2e8c-49ef-90c3-71ad0e4b831b"
      },
      "execution_count": 64,
      "outputs": [
        {
          "output_type": "stream",
          "name": "stdout",
          "text": [
            "Requirement already satisfied: hepsylex in /usr/local/lib/python3.10/dist-packages (1.0.4)\n"
          ]
        }
      ]
    },
    {
      "cell_type": "code",
      "execution_count": 65,
      "metadata": {
        "id": "01LV38gMV7kx"
      },
      "outputs": [],
      "source": [
        "from hepsylex import Lexicons\n",
        "from hepsylex import LexiconsAPI\n",
        "import pandas as pd\n",
        "import numpy as np\n",
        "import re\n",
        "import warnings\n",
        "warnings.filterwarnings('ignore', category=pd.errors.PerformanceWarning)\n",
        "pd.set_option('display.max_colwidth', 1000)"
      ]
    },
    {
      "cell_type": "code",
      "source": [
        "#concat all untagged data\n",
        "excel_file_paths = ['/content/Conversation-info-Wed Nov 15 2023-Mon Jan 15 2024.xlsx', '/content/Calls 1.8.23 to 19.9.23.xlsx', '/content/Conversation-info-Wed Sep 20 2023-Sat Oct 07 2023.xlsx']\n",
        "dataframes = []\n",
        "for file in excel_file_paths:\n",
        "    df = pd.read_excel(file)\n",
        "    dataframes.append(df)\n",
        "concatenated_df = pd.concat(dataframes, ignore_index=True)\n",
        "concatenated_df.to_csv('/content/all_untagged_data.csv', index=False)\n",
        "print(\"Concatenation complete. The file 'all_untagged_data.csv' has been created.\")"
      ],
      "metadata": {
        "colab": {
          "base_uri": "https://localhost:8080/"
        },
        "id": "C3b8HOpqZNvp",
        "outputId": "5a72dd6b-c483-41f9-fa90-82e8ff7f00ba"
      },
      "execution_count": 66,
      "outputs": [
        {
          "output_type": "stream",
          "name": "stdout",
          "text": [
            "Concatenation complete. The file 'all_untagged_data.csv' has been created.\n"
          ]
        }
      ]
    },
    {
      "cell_type": "code",
      "source": [
        "file_path ='/content/all_untagged_data.csv'\n",
        "df = pd.read_csv(file_path)"
      ],
      "metadata": {
        "id": "WDoOvKd-fAMd"
      },
      "execution_count": 67,
      "outputs": []
    },
    {
      "cell_type": "code",
      "source": [
        "# remove all coloums that aren't needed\n",
        "def drop_columns(df, patterns=None, col_names=None, keep_cols=None):\n",
        "    # Ensure keep_cols is a list to prevent errors if None or a single string is passed\n",
        "    keep_cols = [] if keep_cols is None else keep_cols if isinstance(keep_cols, list) else [keep_cols]\n",
        "    # Modify the columns to drop by removing any columns that we want to keep\n",
        "    if col_names:\n",
        "        col_names = [col for col in col_names if col not in keep_cols]\n",
        "\n",
        "    # Collect columns to drop based on patterns, excluding kept columns\n",
        "    columns_to_drop_based_on_patterns = []\n",
        "    if patterns:\n",
        "        for pattern in patterns:\n",
        "            columns_to_drop_based_on_patterns.extend(\n",
        "                [col for col in df.columns if (pattern in col) and (col not in keep_cols)]\n",
        "            )\n",
        "\n",
        "    # Combine and deduplicate columns to drop\n",
        "    columns_to_drop = list(set(col_names + columns_to_drop_based_on_patterns))\n",
        "    # Drop the columns\n",
        "    df.drop(columns=columns_to_drop, inplace=True)\n",
        "\n",
        "\n",
        "# Patterns and specific column names to drop\n",
        "patterns_to_drop = ['firstResponse', 'responseTime', 'response', 'Time', 'time', 'Count', 'words', 'questions']\n",
        "columns_to_drop = [\n",
        "    'conversationId', 'brandId', 'closeReason', 'closeReasonDescription', 'device',\n",
        "    'browser', 'operatingSystem', 'duration', 'agentParticipantsDeleted',\n",
        "    'agentParticipantsUserType',  'source', 'status', 'summaryText', 'latestQueueState', 'latestSkillId', 'userType', 'firstRespondent',\n",
        "    'agentParticipantsUserTypeName',  'transcriptAll', 'transcriptAgent','latestSkillName','userTypeName', 'campaignEngagementId', 'campaignEngagementName', 'campaignId',\n",
        "    'campaignName', 'goalId', 'goalName', 'engagementAgentNote', 'engagementSource',\n",
        "    'visitorBehaviorId', 'visitorBehaviorName', 'visitorProfileId', 'visitorProfileName',\n",
        "    'lobId', 'lobName', 'LocationId', 'LocationName', 'behaviorSystemDefault',\n",
        "    'profileSystemDefault', 'engagementApplicationId', 'engagementApplicationName',\n",
        "    'engagementApplicationTypeId', 'engagementApplicationTypeName', 'csatRate',\n",
        "    'surveyType', 'surveyStatus', 'surveyQuestion', 'surveyAnswer', 'coBrowseSessionId',\n",
        "    'coBrowseEndReason', 'coBrowseDuration', 'coBrowseType', 'coBrowseAgentId',\n",
        "    'coBrowseInteractive', 'customerInfo-customerStatus', 'customerInfo-customerType',\n",
        "    'customerInfo-balance', 'sdes', 'monitoring-country', 'monitoring-countryCode',\n",
        "    'monitoring-state', 'monitoring-city', 'monitoring-isp', 'monitoring-org',\n",
        "    'monitoring-device', 'monitoring-ipAddress', 'monitoring-browser',\n",
        "    'monitoring-operatingSystem', 'monitoring-conversationStartPage',\n",
        "    'monitoring-conversationStartPageTitle', 'operatingSystemVersion', 'browserVersion',\n",
        "    'integration', 'integrationVersion', 'appId', 'appVersion', 'isTruncated',\n",
        "    'language', 'sessionId', 'interactionContextId', 'surveyTypePostSurvey', 'startTimeLOCAL',\n",
        "    'surveyStatusPostSurvey', 'surveyIdPostSurvey', 'surveyDialogIdPostSurvey',\n",
        "    'surveyQuestionPostSurvey', 'surveyAnswerPostSurvey', 'surveyQuestionIdPostSurvey',\n",
        "    'surveyAnswerIdPostSurvey', 'surveyQuestionTypePostSurvey', 'surveyQuestionFormatPostSurvey',\n",
        "    'transfersSourceAgentNickName','consumerParticipantsId','agentParticipantsGroupName','transfersAssignedAgentId','interactionsAgentNickname','agentDeleted','agentParticipantsId','mcsStandard',\n",
        "    'alertedMCS','transfersSourceSkillId','agentParticipantsLoginName','ipAddress','transfersReason','interactionsAgentInteractiveSequence','agentParticipantsPermission','transfersSourceAgentId','agentParticipantsNickname',\n",
        "    'transfersSourceAgentLoginName','mcsGroup','interactionsAgentId','mcsDescription','mcsTrend','mcsMin','agentParticipantsGroupId','transfersSourceSkillName','mcsMax','agentParticipantsRole',\n",
        "    'transfersSourceAgentFullName','transfersBy','transfersTargetSkillName','agentParticipantsFullName','customerInfo-customerId','agentParticipantsPid','mcs','mcsRank','transfersTargetSkillId'\n",
        "]\n",
        "\n",
        "# Drop columns\n",
        "drop_columns(df, patterns=patterns_to_drop, col_names=columns_to_drop)\n"
      ],
      "metadata": {
        "id": "Pntb8XwsYHMM"
      },
      "execution_count": 68,
      "outputs": []
    },
    {
      "cell_type": "code",
      "source": [
        "new_columns = ['classification ', 'despair', 'loneliness', 'emotional overflow', 'self blame', 'anxiety',\n",
        "               'distrust / confusion','legal aid', 'category','urgency', ]\n",
        "for column in new_columns:\n",
        "    df[column] = np.nan"
      ],
      "metadata": {
        "id": "0fl50oEfbHO3"
      },
      "execution_count": 69,
      "outputs": []
    },
    {
      "cell_type": "code",
      "source": [
        "#clean transcript if shorter then 20 in length\n",
        "df = df[df['transcriptConsumer'].str.len() >= 20]"
      ],
      "metadata": {
        "id": "1YhRsWycbfiH"
      },
      "execution_count": 70,
      "outputs": []
    },
    {
      "cell_type": "code",
      "source": [
        "# Text preprocessing functions\n",
        "def remove_html_tags(text):\n",
        "    \"\"\"Remove HTML tags from text.\"\"\"\n",
        "    return re.sub(r'<[^>]+>', '', text)\n",
        "\n",
        "def remove_emojis_special_chars(text):\n",
        "    \"\"\"Remove emojis and special characters, keeping only Hebrew letters, numbers, and basic punctuation.\"\"\"\n",
        "    return re.sub(r'[^\\u0590-\\u05fe0-9\\s.,!?]', '', text)\n",
        "\n",
        "def remove_diacritics(text):\n",
        "    \"\"\"Remove Hebrew diacritics.\"\"\"\n",
        "    return re.sub(r'[\\u0591-\\u05C7]', '', text)\n",
        "\n",
        "def remove_numbers(text):\n",
        "    \"\"\"Remove numbers from text.\"\"\"\n",
        "    return re.sub(r'\\d+', '', text)\n",
        "\n",
        "def text_no_punctuation(text):\n",
        "    \"\"\"Remove punctuation from text, keeping only word characters and whitespace.\"\"\"\n",
        "    return re.sub(r'[^\\w\\s]', '', text)\n",
        "\n",
        "def normalize_hebrew_text(text):\n",
        "    \"\"\"Normalize repeated characters in text.\"\"\"\n",
        "    pattern = re.compile(r\"(.)\\1{1,}\", re.DOTALL)\n",
        "    return pattern.sub(r\"\\1\", text)"
      ],
      "metadata": {
        "id": "jflwZYjriHJu"
      },
      "execution_count": 71,
      "outputs": []
    },
    {
      "cell_type": "code",
      "source": [
        "preprocessing_functions = [\n",
        "    remove_html_tags,\n",
        "    remove_emojis_special_chars,\n",
        "    remove_diacritics,\n",
        "    remove_numbers,\n",
        "    text_no_punctuation,\n",
        "    normalize_hebrew_text\n",
        "]\n",
        "for func in preprocessing_functions:\n",
        "    df['transcriptConsumer'] = df['transcriptConsumer'].apply(func)"
      ],
      "metadata": {
        "id": "stBtH7zmiGkk"
      },
      "execution_count": 72,
      "outputs": []
    },
    {
      "cell_type": "code",
      "source": [
        "#Create classifiction using HebrewPsychologicalLexicons - https://github.com/natalieShapira/HebrewPsychologicalLexicons/tree/master\n",
        "lexicons = Lexicons()\n",
        "df_out = pd.DataFrame() #or df_in\n",
        "LexiconsAPI.df_to_lexicons(df, df_out, lexicons, 'transcriptConsumer','transcriptConsumerout')\n",
        "df_merged = pd.concat([df, df_out], axis=1)"
      ],
      "metadata": {
        "id": "UPIlRkAPfjrO"
      },
      "execution_count": 73,
      "outputs": []
    },
    {
      "cell_type": "code",
      "source": [
        "#rename the columns by the category\n",
        "df_merged = df_merged.rename(columns={\n",
        "    'transcriptConsumerout_ConversationTopics_Topic076': 'transcriptConsumerout_Police',\n",
        "    'transcriptConsumerout_ConversationTopics_Topic109': 'transcriptConsumerout_Law',\n",
        "    'transcriptConsumerout_ConversationTopics_Topic075' : 'transcriptConsumerout_Procceses'\n",
        "})\n"
      ],
      "metadata": {
        "id": "7FYNkDcCgU_s"
      },
      "execution_count": 74,
      "outputs": []
    },
    {
      "cell_type": "code",
      "source": [
        "pattern = r'transcriptConsumerout_ConversationTopics_Topic\\d+'\n",
        "specific_columns_to_drop = [\n",
        "    'transcriptConsumerout_Questions',\n",
        "    'transcriptConsumerout_StopWords',\n",
        "    'transcriptConsumerout_Top2000',\n",
        "    'transcriptConsumerout_Top5000'\n",
        "]\n",
        "columns_to_drop = [col for col in df_merged.columns if pd.Series(col).str.contains(pattern).any()]\n",
        "columns_to_drop.extend(col for col in specific_columns_to_drop if col in df_merged.columns)\n",
        "# Drop these columns from the DataFrame\n",
        "df_merged.drop(columns=columns_to_drop, inplace=True)"
      ],
      "metadata": {
        "id": "AtUgSLmkgVB9"
      },
      "execution_count": 75,
      "outputs": []
    },
    {
      "cell_type": "code",
      "source": [
        "column_names = [\n",
        "    'transcriptConsumerout_Police',\n",
        "    'transcriptConsumerout_Law',\n",
        "    'transcriptConsumerout_Procceses',\n",
        "    'transcriptConsumerout_DataDrivenSupervised_WellBeing_Clinical',\n",
        "    'transcriptConsumerout_DataDrivenSupervised_WellBeing_NonClinical',\n",
        "    'transcriptConsumerout_DepressiveCharacteristics_But',\n",
        "    'transcriptConsumerout_DepressiveCharacteristics_Cursing',\n",
        "    'transcriptConsumerout_DepressiveCharacteristics_Direct',\n",
        "    'transcriptConsumerout_DepressiveCharacteristics_I',\n",
        "    'transcriptConsumerout_DepressiveCharacteristics_Indecision',\n",
        "    'transcriptConsumerout_DepressiveCharacteristics_Knowing',\n",
        "    'transcriptConsumerout_DepressiveCharacteristics_Meaning',\n",
        "    'transcriptConsumerout_DepressiveCharacteristics_Negation',\n",
        "    'transcriptConsumerout_DepressiveCharacteristics_NonFluenciesAhEm',\n",
        "    'transcriptConsumerout_DepressiveCharacteristics_NonFluenciesLike',\n",
        "    'transcriptConsumerout_DepressiveCharacteristics_OK',\n",
        "    'transcriptConsumerout_DepressiveCharacteristics_Tentativeness',\n",
        "    'transcriptConsumerout_DepressiveCharacteristics_Total',\n",
        "    'transcriptConsumerout_DepressiveCharacteristics_UnknownWord',\n",
        "    'transcriptConsumerout_EmotionalVariety_Amused',\n",
        "    'transcriptConsumerout_EmotionalVariety_Anger',\n",
        "    'transcriptConsumerout_EmotionalVariety_Anticipation',\n",
        "    'transcriptConsumerout_EmotionalVariety_Anxiety',\n",
        "    'transcriptConsumerout_EmotionalVariety_Ashamed',\n",
        "    'transcriptConsumerout_EmotionalVariety_Calm',\n",
        "    'transcriptConsumerout_EmotionalVariety_Confusion',\n",
        "    'transcriptConsumerout_EmotionalVariety_Contentment',\n",
        "    'transcriptConsumerout_EmotionalVariety_Disgust',\n",
        "    'transcriptConsumerout_EmotionalVariety_Enthusiastic',\n",
        "    'transcriptConsumerout_EmotionalVariety_Fatigue',\n",
        "    'transcriptConsumerout_EmotionalVariety_Guilty',\n",
        "    'transcriptConsumerout_EmotionalVariety_Hostile',\n",
        "    'transcriptConsumerout_EmotionalVariety_Interested',\n",
        "    'transcriptConsumerout_EmotionalVariety_Joy',\n",
        "    'transcriptConsumerout_EmotionalVariety_Nervous',\n",
        "    'transcriptConsumerout_EmotionalVariety_NotAmused',\n",
        "    'transcriptConsumerout_EmotionalVariety_NotAnger',\n",
        "    'transcriptConsumerout_EmotionalVariety_NotAnticipation',\n",
        "    'transcriptConsumerout_EmotionalVariety_NotAnxiety',\n",
        "    'transcriptConsumerout_EmotionalVariety_NotAshamed',\n",
        "    'transcriptConsumerout_EmotionalVariety_NotCalm',\n",
        "    'transcriptConsumerout_EmotionalVariety_NotConfusion',\n",
        "    'transcriptConsumerout_EmotionalVariety_NotContentment',\n",
        "    'transcriptConsumerout_EmotionalVariety_NotDisgust',\n",
        "    'transcriptConsumerout_EmotionalVariety_NotEnthusiastic',\n",
        "    'transcriptConsumerout_EmotionalVariety_NotFatigue',\n",
        "    'transcriptConsumerout_EmotionalVariety_NotGuilty',\n",
        "    'transcriptConsumerout_EmotionalVariety_NotHostile',\n",
        "    'transcriptConsumerout_EmotionalVariety_NotInterested',\n",
        "    'transcriptConsumerout_EmotionalVariety_NotJoy',\n",
        "    'transcriptConsumerout_EmotionalVariety_NotNervous',\n",
        "    'transcriptConsumerout_EmotionalVariety_NotProud',\n",
        "    'transcriptConsumerout_EmotionalVariety_NotSad',\n",
        "    'transcriptConsumerout_EmotionalVariety_NotSurprise',\n",
        "    'transcriptConsumerout_EmotionalVariety_NotTrust',\n",
        "    'transcriptConsumerout_EmotionalVariety_NotVigor',\n",
        "    'transcriptConsumerout_EmotionalVariety_Proud',\n",
        "    'transcriptConsumerout_EmotionalVariety_Sad',\n",
        "    'transcriptConsumerout_EmotionalVariety_Surprise',\n",
        "    'transcriptConsumerout_EmotionalVariety_Trust',\n",
        "    'transcriptConsumerout_EmotionalVariety_Vigor',\n",
        "    'transcriptConsumerout_Paralinguistics_Body',\n",
        "    'transcriptConsumerout_Paralinguistics_Crying',\n",
        "    'transcriptConsumerout_Paralinguistics_HighTone',\n",
        "    'transcriptConsumerout_Paralinguistics_Humming',\n",
        "    'transcriptConsumerout_Paralinguistics_ImitationTone',\n",
        "    'transcriptConsumerout_Paralinguistics_Joy',\n",
        "    'transcriptConsumerout_Paralinguistics_LowTone',\n",
        "    'transcriptConsumerout_Paralinguistics_Sarcasm',\n",
        "    'transcriptConsumerout_Paralinguistics_Sigh',\n",
        "    'transcriptConsumerout_Paralinguistics_Smirk',\n",
        "    'transcriptConsumerout_Paralinguistics_TutTut',\n",
        "    'transcriptConsumerout_Valence_Negative',\n",
        "    'transcriptConsumerout_Valence_Positive'\n",
        "]\n",
        "\n",
        "# Iterate through each column and print its unique values\n",
        "for column in column_names:\n",
        "    if column in df_merged.columns:  # Check if the column exists in the DataFrame\n",
        "        unique_values = df_merged[column].unique()\n",
        "        print(f\"Unique values in {column}: {unique_values}\")\n",
        "    else:\n",
        "        print(f\"Column {column} does not exist in DataFrame.\")\n"
      ],
      "metadata": {
        "colab": {
          "base_uri": "https://localhost:8080/"
        },
        "id": "_e-nkK4Xmydk",
        "outputId": "556341fc-ea90-4e9d-caeb-a223d1b66ecb"
      },
      "execution_count": 76,
      "outputs": [
        {
          "output_type": "stream",
          "name": "stdout",
          "text": [
            "Unique values in transcriptConsumerout_Police: [0 2 1 3 4 5 7]\n",
            "Unique values in transcriptConsumerout_Law: [ 0  1  3  6  4  2 21  7  8 12  5  9 13]\n",
            "Unique values in transcriptConsumerout_Procceses: [ 1  0  3  2  4  5  6 11  7  8 12 16]\n",
            "Unique values in transcriptConsumerout_DataDrivenSupervised_WellBeing_Clinical: [  6   1  79  11   0   2  12  45  13  16   8  40  52  26   3  25  30  29\n",
            "   7  17  60   5  15  10  20  38  24  33  28 102   4  75  35  99  42  31\n",
            "  14 127  43  18 170  61   9  19  58  62  92 114  46  34 124  37  32  27\n",
            "  71  36  44  21  50  22 133  76  23  63 179  55  82  57 105 150 110 215\n",
            "  51  49 141 108 173 119  87 166 137  69 120 140  48 129  67  41 172  39\n",
            "  95 112  74  97 122  96  66  65  47 132 106 325  83 203 107  86  72 123\n",
            " 101 138  88 154 246  77  53  93  54 163 267]\n",
            "Unique values in transcriptConsumerout_DataDrivenSupervised_WellBeing_NonClinical: [  3   1  48   9   0   4   2  10   5   7  19  36  15  13  14  12  29   6\n",
            "  20  45  23  51  11  30  39  47   8  21  72  22  17  16  27  33  26  43\n",
            " 104  25  62  24  18  28  35  54  31  37  42 182  64  34  68  78  75  38\n",
            "  41  32  66  46  77  65  85  58  76  56 101  55  49  44  52  70  91  98\n",
            "  40  88 106  71 160  50  89  80]\n",
            "Unique values in transcriptConsumerout_DepressiveCharacteristics_But: [ 0  1  8  3  2  4  7  5 13  6  9 10 12 20 11 15 14 16 18 34 21 26]\n",
            "Unique values in transcriptConsumerout_DepressiveCharacteristics_Cursing: [0 1 2 3]\n",
            "Unique values in transcriptConsumerout_DepressiveCharacteristics_Direct: [ 2  0  7  1  3  5  8  4  6 11  9 14 10 28 12 16 13 15 25]\n",
            "Unique values in transcriptConsumerout_DepressiveCharacteristics_I: [  0  27   9   1   3   2  22  10  23  18  11   4  14  16   8  32  12   7\n",
            "   6  24  15  20  38   5  25  13  87  83  30  29  41  50  28  21  17  26\n",
            "  85  42  31  61  37  19  49  68  54  40  95  39  48  78  36  89  33  35\n",
            "  63  51  67  57  58  66 127  53  69  43  55  45  44  71  77  34 125]\n",
            "Unique values in transcriptConsumerout_DepressiveCharacteristics_Indecision: [0 1 2 3 5 7 4]\n",
            "Unique values in transcriptConsumerout_DepressiveCharacteristics_Knowing: [ 2  0  1  3  5  6  4  8 19 15  9 14  7 12 20 10 11 24 13 23 21 16]\n",
            "Unique values in transcriptConsumerout_DepressiveCharacteristics_Meaning: [1 0 2 4 3 7]\n",
            "Unique values in transcriptConsumerout_DepressiveCharacteristics_Negation: [  4   0  26   6   5  12   3   8  10  16   7   1  13   2  15  25   9  36\n",
            "  28  11  31  14  17  64  19  66  20  18  22  23  37  32  59  35  41  21\n",
            "  24  47  86  29  27  38  82  33  72  46  40  62  49  51 105  79  34  48\n",
            "  61  30  39  57 142  54  52  76 109  44  93 121]\n",
            "Unique values in transcriptConsumerout_DepressiveCharacteristics_NonFluenciesAhEm: [0 1 2 5 3]\n",
            "Unique values in transcriptConsumerout_DepressiveCharacteristics_NonFluenciesLike: [ 0  1  2  5  3  4 17  6 12  7  8  9 10 15]\n",
            "Unique values in transcriptConsumerout_DepressiveCharacteristics_OK: [0]\n",
            "Unique values in transcriptConsumerout_DepressiveCharacteristics_Tentativeness: [ 0  1  2  3  7  4  6  5  8 10]\n",
            "Unique values in transcriptConsumerout_DepressiveCharacteristics_Total: [ 2  1  9  0  3  5  6 14 11  8 13 16  7 25  4 10 18 23 15 12 32 19 20 17\n",
            " 22 24 40 51 26]\n",
            "Unique values in transcriptConsumerout_DepressiveCharacteristics_UnknownWord: [0]\n",
            "Unique values in transcriptConsumerout_EmotionalVariety_Amused: [ 0  1  4  2  3  5  6  9  8 13  7 10 20 12]\n",
            "Unique values in transcriptConsumerout_EmotionalVariety_Anger: [ 2  0  8  1  4  3 10  9  6  5 12 16  7 20 27 17 13 21 11 15 22 23 25 41\n",
            " 19 18]\n",
            "Unique values in transcriptConsumerout_EmotionalVariety_Anticipation: [ 1 19  9  5  0  2  3  4 13  7  6  8 10 21 35 11 18 29 46 20 16 15 12 44\n",
            " 17 14 23 24 67 38 27 45 26 30 22 25 36 28 33 41 31 49 53 50 40 79 32]\n",
            "Unique values in transcriptConsumerout_EmotionalVariety_Anxiety: [ 0  4  1  5  3  7  2  6 13  9 17 14  8 10 15 20 21 16 12 11 19 18 26 32\n",
            " 58]\n",
            "Unique values in transcriptConsumerout_EmotionalVariety_Ashamed: [  4   0  24   3   7   9  10   6   2   8  15   1  11  13  14  22   5  12\n",
            "  34  28  29  17  56  18  45  25  21  16  20  30  60  26  32  19  87  36\n",
            "  64  67  44  31  61  55  52 105  40  70  37  42  35  47  27  50  72  41\n",
            "  59  33  69 123  46  63  97  38  23 110]\n",
            "Unique values in transcriptConsumerout_EmotionalVariety_Calm: [ 1  3  4  0  2  5 11  6  9  7 25  8 20 23 45 14 18 10 13 17 12 16 15]\n",
            "Unique values in transcriptConsumerout_EmotionalVariety_Confusion: [  0  23   3   9   4   5   1  12   2  18  14  10  13   7   6  20  11  16\n",
            "   8  38  26  32  36  17  73  22  21  41  58  19  24  28  39  15  25  90\n",
            "  59  61  31  33  27  44  29  67  30  40  46  37  49  34 112  92  52  35\n",
            "  47  70  84  83  75 103]\n",
            "Unique values in transcriptConsumerout_EmotionalVariety_Contentment: [ 1  5  3  0  2  9  6  4  7 12 11 14 15 10  8 22 38 13 17 34 18 23 16 24\n",
            " 25 19 26 20 35]\n",
            "Unique values in transcriptConsumerout_EmotionalVariety_Disgust: [ 4  0  2  1  6  7  5  3 10 18  8 13 15  9 11 35 32 12 20 14 22 17 16 25\n",
            " 21]\n",
            "Unique values in transcriptConsumerout_EmotionalVariety_Enthusiastic: [ 0  2  1  3  8  7  5  4  6 15 10 17 12 18 13 11 14]\n",
            "Unique values in transcriptConsumerout_EmotionalVariety_Fatigue: [ 2  1 21  5  6  0  3  9 10  4 11 12  8  7 19 26 37 17 18 14 22 13 42 15\n",
            " 40 16 63 47 24 25 32 20 34 48 30 31 44]\n",
            "Unique values in transcriptConsumerout_EmotionalVariety_Guilty: [ 2  0 11  1  3  7  8  4 10  5 13  6  9 15 33 29 12 17 24 21 19 14 27 20\n",
            " 16 28]\n",
            "Unique values in transcriptConsumerout_EmotionalVariety_Hostile: [ 0  3  4  2  1  7  5 12 10  6 17 20 11 15  8 23  9 25 27 16]\n",
            "Unique values in transcriptConsumerout_EmotionalVariety_Interested: [ 1  9  7  4  0  2  3  6 10  5 12 22  8 28 15 24 13 11 16 14 41 20 23 45\n",
            " 19 43 17 27 25 26 18 29 31 44 21 47 32 50]\n",
            "Unique values in transcriptConsumerout_EmotionalVariety_Joy: [  1  12   8   4   0   7  11   2  17  14   6  15   5  20  19   3   9  28\n",
            "  26  13  49  22  10  25  21  18  55  23  16  73  31  32  53  36  68  52\n",
            "  51  29  33  40  42  47  35  30  60  39  41  37  66 108  24  46  61]\n",
            "Unique values in transcriptConsumerout_EmotionalVariety_Nervous: [ 2  0 12  5  8  1  9  3  4 11  6 14 10 18  7 15 19 28 17 21 44 13 16 27\n",
            " 26 20 24 22 45 23 33]\n",
            "Unique values in transcriptConsumerout_EmotionalVariety_NotAmused: [ 0  1 10  2  4  8  3  5 13  6  7 16 12 17 11 30 21 14  9 19 43 24 20 37]\n",
            "Unique values in transcriptConsumerout_EmotionalVariety_NotAnger: [ 1  3  0  5  2  4  6  7  8  9 11 10 13 31 14 29 21 12 18 19 15 20 24 16\n",
            " 26]\n",
            "Unique values in transcriptConsumerout_EmotionalVariety_NotAnticipation: [ 1  0 14  7  2  8  4  9  6 18  3  5 12 22 16 11 27 40 13 21 30 15 10 17\n",
            " 24 49 26 19 44 20 36 23 29 31 43 32 25 47]\n",
            "Unique values in transcriptConsumerout_EmotionalVariety_NotAnxiety: [ 0  1  4  2  3  7  5 11 13 10  8 12  9 21  6 25 14 31 23 15 20 16 28 26\n",
            " 22 19 29 18 32 24]\n",
            "Unique values in transcriptConsumerout_EmotionalVariety_NotAshamed: [ 2  1  7  4  0  3  5  8  6 12  9 28 18 10 15 11 16 13 14 32 29 30 19 33\n",
            " 17 21 23 25 24 46]\n",
            "Unique values in transcriptConsumerout_EmotionalVariety_NotCalm: [ 0  4  1  3  2 11  8  5  6 26 13 12 14 10  7  9 21 25]\n",
            "Unique values in transcriptConsumerout_EmotionalVariety_NotConfusion: [  8   1  42  15   5   0   3   2  19  26   7  21  12  25  31  23  16  17\n",
            "  10  24  30  37  11   6   9  74   4  55  86  34  28  73  13  22  29 100\n",
            "  50  14  20  43  59  32  18  60 122  27  47  38  45  41  56  35  48  52\n",
            "  46  49 193  71  75  54  83  78  40 106  36 115  84  79  51  33  91 113\n",
            "  65  57  90  89 105  80  85 156  76  77  88  53  61 124 169 150 107  96\n",
            "  72 118 134 214 146 123 171]\n",
            "Unique values in transcriptConsumerout_EmotionalVariety_NotContentment: [ 1  0  7  5  4  3 10  2  8  6 15 12 24 33 18 13 11 31  9 23 14 46 21 16\n",
            " 47 20 26 22 19 17 29 52 27 30 44 56]\n",
            "Unique values in transcriptConsumerout_EmotionalVariety_NotDisgust: [ 3  2 20 11  5  0  6  1 12  4 21  7 23  8 10 33 17  9 50 24 13 41 22 16\n",
            " 25 14 18 61 15 19 36 27 68 29 55 40 74 38 26 31 53 32 58 28 39 34 56 46\n",
            " 43 30 45 70 37 51 84 73]\n",
            "Unique values in transcriptConsumerout_EmotionalVariety_NotEnthusiastic: [ 0  4  1  3  2  5 14  6  8  7 13 15  9 11 12 19 10 17 20 16 25]\n",
            "Unique values in transcriptConsumerout_EmotionalVariety_NotFatigue: [ 0 11  4  2  1  5 17  6 10  8 20  3  7 26  9 22 14 19 50 21 12 13 66 28\n",
            " 23 15 41 18 16 40 25 62 31 37 69 45 32 61 39 29 35 36 52 24 27 33 44 82\n",
            " 38 48 34 57 98 54]\n",
            "Unique values in transcriptConsumerout_EmotionalVariety_NotGuilty: [ 0  1 21  2  4  3  6 10  8 23  7 14 15 20 12  9  5 13 35 19 11 16 18 67\n",
            " 27 22 17 28 29 49 36 47 33 52]\n",
            "Unique values in transcriptConsumerout_EmotionalVariety_NotHostile: [ 2  1  4  5  0 10  7  8 11  3  6  9 13 14 27 12 22 19 15 20 16 23 26 18\n",
            " 17 21 28 35 24 37 29 36]\n",
            "Unique values in transcriptConsumerout_EmotionalVariety_NotInterested: [  6   1  30   8   9   0   2  17   5   4  20  16  15  13   7  23  29  10\n",
            "   3  12  11  14  51  34  46  63  25  62  28  27  45  43  57  18  35  21\n",
            "  22  42  26  37  19  31  36 101  32  33  71  41  98  24  70  44  58  67\n",
            "  60 108  81  50  49  61  80  53  59  39  55 153  56  64  40  52 111 132]\n",
            "Unique values in transcriptConsumerout_EmotionalVariety_NotJoy: [ 4  1 23  3  6  0  2 13  5 20 16  9 31 22 11  8  7 12 29 10 27 18 46 30\n",
            " 14 28 15 33 24 25 21 83 19 80 17 52 42 35 44 49 36 37 55 38 41 34 82 54\n",
            " 26 32 53 94 74 39]\n",
            "Unique values in transcriptConsumerout_EmotionalVariety_NotNervous: [ 0  1  2  4  3 11  5  8  7  6  9 13 26 12 20 15 10]\n",
            "Unique values in transcriptConsumerout_EmotionalVariety_NotProud: [ 0  4  2  1  5  3  6  7 10 14 11  9 17 16  8 25 20 12 23 13 19 22 18 27\n",
            " 26]\n",
            "Unique values in transcriptConsumerout_EmotionalVariety_NotSad: [ 1  0  8  7  2  4  3  9 10 14 13 12  5 11  6 25 33 24 17 41 26 40 18 34\n",
            " 20 16 15 28 21 23 32 29 22 19 55]\n",
            "Unique values in transcriptConsumerout_EmotionalVariety_NotSurprise: [ 1  0 12  2  3  7  6  4  8  5 11 10 17 48 51  9 14 25 38 15 29 22 16 44\n",
            " 13 21 33 31 18 47 19 36 24 35 26 23 28 39 30 52]\n",
            "Unique values in transcriptConsumerout_EmotionalVariety_NotTrust: [  6   0  29   7   3   9  14  21   4   1  11  15   2   5  30  13  12  16\n",
            "  43   8  26  33  18  69  62  20  19  23  10  32  55  27  36  25  39  22\n",
            " 102  28  31  37  65  49  66  71  47  35  53  60  54  24  44 111  17  76\n",
            "  58  46  48  50  63  61  34  67 134  40  64 105  73]\n",
            "Unique values in transcriptConsumerout_EmotionalVariety_NotVigor: [ 0  5  1  2  4  6 10  3  7 23  9  8 11 13 15 22 12 16 17 14 20 21 28 34\n",
            " 33]\n",
            "Unique values in transcriptConsumerout_EmotionalVariety_Proud: [  2   0  24  10   1   3  17   9  20  21  13   4  14  18   7  12  42  11\n",
            "   8   5  26  23  39  25  35  15  83  22  71  32  16  19  27   6  33  48\n",
            "  41  36  65  88  29  63  68  98  47  60  30  43  58  75  31  34  52  56\n",
            "  57  37  64  28  53 125  73  46  50  38  51  55  85  62 101  70  49 112]\n",
            "Unique values in transcriptConsumerout_EmotionalVariety_Sad: [  8   1  33   5   9   0   2  17   7   3  19  26  20  14  10   6  32  28\n",
            "  13  16  12  54   4  41  21  40  22  70  25  81  24  11  42  44  30  76\n",
            "  39  31  18  49  23  15  46  36  37 134  93  59  35 100  43  95  80  29\n",
            "  78  99  56 110  50  27  85  66  60  69  83  64  68  38  61  48 190  55\n",
            "  57  47  51  74 154 124  34 119]\n",
            "Unique values in transcriptConsumerout_EmotionalVariety_Surprise: [ 0  6  1  3  2  4  5 10  7  9  8 26 11 13 27 14 12 19 16 22 18 15 24 32]\n",
            "Unique values in transcriptConsumerout_EmotionalVariety_Trust: [ 2  1 16  3  5  0  7 11 12  4 10  6 14 18  8  9 15 31 21 23 13 40 19 69\n",
            " 22 17 27 20 33 46 28 25 37 45 30 38 26 24 50 29 53 42 49 44 36 47 54 43\n",
            " 51 48]\n",
            "Unique values in transcriptConsumerout_EmotionalVariety_Vigor: [ 1  0  5  2  4  3 10  6  9 12  7  8 13 19 11 14 15 23 41]\n",
            "Unique values in transcriptConsumerout_Paralinguistics_Body: [ 0  1  2  5  3 16]\n",
            "Unique values in transcriptConsumerout_Paralinguistics_Crying: [0 1 3 2 4]\n",
            "Unique values in transcriptConsumerout_Paralinguistics_HighTone: [ 0  2  1  3  6  4 14  7]\n",
            "Unique values in transcriptConsumerout_Paralinguistics_Humming: [0]\n",
            "Unique values in transcriptConsumerout_Paralinguistics_ImitationTone: [0 1]\n",
            "Unique values in transcriptConsumerout_Paralinguistics_Joy: [0 1 2 3]\n",
            "Unique values in transcriptConsumerout_Paralinguistics_LowTone: [0 1 2 3]\n",
            "Unique values in transcriptConsumerout_Paralinguistics_Sarcasm: [0 1]\n",
            "Unique values in transcriptConsumerout_Paralinguistics_Sigh: [0]\n",
            "Unique values in transcriptConsumerout_Paralinguistics_Smirk: [0 1]\n",
            "Unique values in transcriptConsumerout_Paralinguistics_TutTut: [0]\n",
            "Unique values in transcriptConsumerout_Valence_Negative: [  8   1  51   9  10   0   3   7  20  11   6  26  25  12  19   5  16  13\n",
            "  31  41  15   4  17   2  14  66  46  22  48  24  86  27 104  38  21  45\n",
            "  36  29  85  43  35  28  49  18  64  60  32  50  37  30 147  39 126  59\n",
            " 133 105  73  33  47  57  34 102  93  78  56 131  54  40 100  42  81  23\n",
            "  75  71  95  70  79  76  62  63  44  61 214  72  55  52  77 112 188 138]\n",
            "Unique values in transcriptConsumerout_Valence_Positive: [ 4  2 11  5  3  0  1 13 14 19  7  9 10 15  6 18 21 23  8 26 43 16 12 40\n",
            " 17 27 33 50 22 24 38 31 25 49 20 30 36 37 41 42 29 34 39 28 47 32 35 48\n",
            " 46 63 80 53]\n"
          ]
        }
      ]
    },
    {
      "cell_type": "code",
      "source": [
        "#legal aid\n",
        "df_merged['legal aid'] = (\n",
        "    (df_merged['transcriptConsumerout_Police'] +\n",
        "     df_merged['transcriptConsumerout_Law'] +\n",
        "     df_merged['transcriptConsumerout_Procceses'] > 3\n",
        ").astype(int))\n"
      ],
      "metadata": {
        "id": "yGX26_1Vk9Kk"
      },
      "execution_count": 77,
      "outputs": []
    },
    {
      "cell_type": "code",
      "source": [
        "df_merged['despair'] = (\n",
        "    (df_merged['transcriptConsumerout_DepressiveCharacteristics_Negation'] +\n",
        "     df_merged['transcriptConsumerout_EmotionalVariety_Sad'] +\n",
        "     df_merged['transcriptConsumerout_DepressiveCharacteristics_Indecision']) > 5\n",
        ").astype(int)\n",
        "\n",
        "df_merged['loneliness'] = (\n",
        "    (df_merged['transcriptConsumerout_EmotionalVariety_Sad'] +\n",
        "     df_merged['transcriptConsumerout_DepressiveCharacteristics_I']) > 5\n",
        ").astype(int)\n",
        "\n",
        "df_merged['emotional overflow'] = (\n",
        "    df_merged.filter(like='transcriptConsumerout_EmotionalVariety_').sum(axis=1) > 10\n",
        ").astype(int)\n",
        "\n",
        "df_merged['self blame'] = (\n",
        "    (df_merged['transcriptConsumerout_DepressiveCharacteristics_I'] +\n",
        "     df_merged['transcriptConsumerout_DepressiveCharacteristics_Negation']) > 5\n",
        ").astype(int)\n",
        "\n",
        "df_merged['anxiety'] = (\n",
        "    (df_merged['transcriptConsumerout_EmotionalVariety_Anxiety'] +\n",
        "     df_merged['transcriptConsumerout_EmotionalVariety_Nervous'] +\n",
        "     df_merged['transcriptConsumerout_EmotionalVariety_NotCalm']) > 5\n",
        ").astype(int)\n",
        "\n",
        "df_merged['distrust / confusion'] = (\n",
        "    (df_merged['transcriptConsumerout_EmotionalVariety_Confusion'] +\n",
        "     df_merged['transcriptConsumerout_DepressiveCharacteristics_Indecision']) > 5\n",
        ").astype(int)"
      ],
      "metadata": {
        "id": "wbcahI6MlNLt"
      },
      "execution_count": 78,
      "outputs": []
    },
    {
      "cell_type": "code",
      "source": [
        "df_merged['urgency'] = 0\n",
        "df_merged.loc[df_merged['transcriptConsumerout_EmotionalVariety_NotCalm'] > 10, 'urgency'] = 1\n",
        "df_merged.loc[df_merged['transcriptConsumerout_EmotionalVariety_Nervous'] > 10, 'urgency'] = 1\n"
      ],
      "metadata": {
        "id": "U51P7qZvlaYB"
      },
      "execution_count": 79,
      "outputs": []
    },
    {
      "cell_type": "code",
      "source": [
        "column_names_to_drop = [\n",
        "    'transcriptConsumerout_Police',\n",
        "    'transcriptConsumerout_Law',\n",
        "    'transcriptConsumerout_Procceses',\n",
        "    'transcriptConsumerout_DataDrivenSupervised_WellBeing_Clinical',\n",
        "    'transcriptConsumerout_DataDrivenSupervised_WellBeing_NonClinical',\n",
        "    'transcriptConsumerout_DepressiveCharacteristics_But',\n",
        "    'transcriptConsumerout_DepressiveCharacteristics_Cursing',\n",
        "    'transcriptConsumerout_DepressiveCharacteristics_Direct',\n",
        "    'transcriptConsumerout_DepressiveCharacteristics_I',\n",
        "    'transcriptConsumerout_DepressiveCharacteristics_Indecision',\n",
        "    'transcriptConsumerout_DepressiveCharacteristics_Knowing',\n",
        "    'transcriptConsumerout_DepressiveCharacteristics_Meaning',\n",
        "    'transcriptConsumerout_DepressiveCharacteristics_Negation',\n",
        "    'transcriptConsumerout_DepressiveCharacteristics_NonFluenciesAhEm',\n",
        "    'transcriptConsumerout_DepressiveCharacteristics_NonFluenciesLike',\n",
        "    'transcriptConsumerout_DepressiveCharacteristics_OK',\n",
        "    'transcriptConsumerout_DepressiveCharacteristics_Tentativeness',\n",
        "    'transcriptConsumerout_DepressiveCharacteristics_Total',\n",
        "    'transcriptConsumerout_DepressiveCharacteristics_UnknownWord',\n",
        "    'transcriptConsumerout_EmotionalVariety_Amused',\n",
        "    'transcriptConsumerout_EmotionalVariety_Anger',\n",
        "    'transcriptConsumerout_EmotionalVariety_Anticipation',\n",
        "    'transcriptConsumerout_EmotionalVariety_Anxiety',\n",
        "    'transcriptConsumerout_EmotionalVariety_Ashamed',\n",
        "    'transcriptConsumerout_EmotionalVariety_Calm',\n",
        "    'transcriptConsumerout_EmotionalVariety_Confusion',\n",
        "    'transcriptConsumerout_EmotionalVariety_Contentment',\n",
        "    'transcriptConsumerout_EmotionalVariety_Disgust',\n",
        "    'transcriptConsumerout_EmotionalVariety_Enthusiastic',\n",
        "    'transcriptConsumerout_EmotionalVariety_Fatigue',\n",
        "    'transcriptConsumerout_EmotionalVariety_Guilty',\n",
        "    'transcriptConsumerout_EmotionalVariety_Hostile',\n",
        "    'transcriptConsumerout_EmotionalVariety_Interested',\n",
        "    'transcriptConsumerout_EmotionalVariety_Joy',\n",
        "    'transcriptConsumerout_EmotionalVariety_Nervous',\n",
        "    'transcriptConsumerout_EmotionalVariety_NotAmused',\n",
        "    'transcriptConsumerout_EmotionalVariety_NotAnger',\n",
        "    'transcriptConsumerout_EmotionalVariety_NotAnticipation',\n",
        "    'transcriptConsumerout_EmotionalVariety_NotAnxiety',\n",
        "    'transcriptConsumerout_EmotionalVariety_NotAshamed',\n",
        "    'transcriptConsumerout_EmotionalVariety_NotCalm',\n",
        "    'transcriptConsumerout_EmotionalVariety_NotConfusion',\n",
        "    'transcriptConsumerout_EmotionalVariety_NotContentment',\n",
        "    'transcriptConsumerout_EmotionalVariety_NotDisgust',\n",
        "    'transcriptConsumerout_EmotionalVariety_NotEnthusiastic',\n",
        "    'transcriptConsumerout_EmotionalVariety_NotFatigue',\n",
        "    'transcriptConsumerout_EmotionalVariety_NotGuilty',\n",
        "    'transcriptConsumerout_EmotionalVariety_NotHostile',\n",
        "    'transcriptConsumerout_EmotionalVariety_NotInterested',\n",
        "    'transcriptConsumerout_EmotionalVariety_NotJoy',\n",
        "    'transcriptConsumerout_EmotionalVariety_NotNervous',\n",
        "    'transcriptConsumerout_EmotionalVariety_NotProud',\n",
        "    'transcriptConsumerout_EmotionalVariety_NotSad',\n",
        "    'transcriptConsumerout_EmotionalVariety_NotSurprise',\n",
        "    'transcriptConsumerout_EmotionalVariety_NotTrust',\n",
        "    'transcriptConsumerout_EmotionalVariety_NotVigor',\n",
        "    'transcriptConsumerout_EmotionalVariety_Proud',\n",
        "    'transcriptConsumerout_EmotionalVariety_Sad',\n",
        "    'transcriptConsumerout_EmotionalVariety_Surprise',\n",
        "    'transcriptConsumerout_EmotionalVariety_Trust',\n",
        "    'transcriptConsumerout_EmotionalVariety_Vigor',\n",
        "    'transcriptConsumerout_Paralinguistics_Body',\n",
        "    'transcriptConsumerout_Paralinguistics_Crying',\n",
        "    'transcriptConsumerout_Paralinguistics_HighTone',\n",
        "    'transcriptConsumerout_Paralinguistics_Humming',\n",
        "    'transcriptConsumerout_Paralinguistics_ImitationTone',\n",
        "    'transcriptConsumerout_Paralinguistics_Joy',\n",
        "    'transcriptConsumerout_Paralinguistics_LowTone',\n",
        "    'transcriptConsumerout_Paralinguistics_Sarcasm',\n",
        "    'transcriptConsumerout_Paralinguistics_Sigh',\n",
        "    'transcriptConsumerout_Paralinguistics_Smirk',\n",
        "    'transcriptConsumerout_Paralinguistics_TutTut',\n",
        "    'transcriptConsumerout_Valence_Negative',\n",
        "    'transcriptConsumerout_Valence_Positive'\n",
        "]\n",
        "df_merged.drop(columns=column_names_to_drop, inplace=True)"
      ],
      "metadata": {
        "id": "wSu42iy6qFnL"
      },
      "execution_count": 80,
      "outputs": []
    },
    {
      "cell_type": "code",
      "source": [
        "#create categorys\n",
        "column_categories = {\n",
        "    'emotional support': [\n",
        "        'despair', 'loneliness', 'emotional overflow', 'self blame',\n",
        "        'anxiety', 'distrust / confusion'\n",
        "    ],\n",
        "    'legal aid': [\n",
        "        'legal aid'\n",
        "    ],\n",
        "    'emergency': [\n",
        "        'urgency'\n",
        "    ]\n",
        "}\n",
        "def classify_row(row):\n",
        "    # Check for 'emergency' first\n",
        "    if row['urgency'] == 1:\n",
        "        return 'emergency'\n",
        "    # Check for 'legal aid' with a specific condition\n",
        "    elif row['legal aid'] == 1:\n",
        "        if all(row[col] == 1 for col in column_categories['emotional support']) and row['urgency'] != 1:\n",
        "            return 'emotional support'\n",
        "        else:\n",
        "            return 'legal aid'\n",
        "    # If 'legal aid' is not 1 and 'urgency' is not 1, but any 'emotional support' column is 1\n",
        "    elif any(row[col] == 1 for col in column_categories['emotional support']):\n",
        "        return 'emotional support'\n",
        "    # Default to 'unclassified' if none of the above conditions are met\n",
        "    return 'unclassified'\n",
        "\n",
        "# Assuming 'df' is your DataFrame\n",
        "# Apply the classification function row-wise and create a new 'classification' column\n",
        "df_merged['classification'] = df_merged.apply(classify_row, axis=1)\n",
        "\n",
        "#drop all unclassified\n",
        "df_merged = df_merged[df_merged['classification'] != 'unclassified'].copy()"
      ],
      "metadata": {
        "id": "DsGrr2UzgVEP"
      },
      "execution_count": 81,
      "outputs": []
    },
    {
      "cell_type": "code",
      "source": [
        "# merge the classified data we got with this data\n",
        "classified_df = pd.read_csv('/content/clean_final_with_urgency.csv')\n",
        "# Columns unique to df2 that we want to drop\n",
        "columns_to_drop = ['Unnamed: 0.1', 'new assault / new exposure', 'additional notes', 'level of suicide/ level of risk',\n",
        "                   'classification 2', 'obligation to report occording law', 'Unnamed: 0', 'support for support circuls']\n",
        "\n",
        "# Dropping the unique columns from df2\n",
        "classified_df = classified_df.drop(columns=columns_to_drop)\n",
        "df_merged['classification '] = df_merged['classification']\n",
        "df_merged = df_merged.drop(columns=['classification','legal aid','interactionsAgentFullName'])\n",
        "\n",
        "# Now df2_dropped contains only the common columns\n",
        "\n",
        "columns_df1 = set(df_merged.columns)\n",
        "columns_df2 = set(classified_df.columns)\n",
        "\n",
        "# Print columns for each DataFrame\n",
        "print(\"Columns in df1:\", columns_df1)\n",
        "print(\"Columns in df2:\", columns_df2)\n",
        "\n",
        "# Find columns that are only in df1\n",
        "unique_to_df1 = columns_df1 - columns_df2\n",
        "print(\"Columns unique to df1:\", unique_to_df1)\n",
        "\n",
        "# Find columns that are only in df2\n",
        "unique_to_df2 = columns_df2 - columns_df1\n",
        "print(\"Columns unique to df2:\", unique_to_df2)\n",
        "\n",
        "# Find common columns in both df1 and df2\n",
        "common_columns = columns_df1 & columns_df2\n",
        "print(\"Common columns:\", common_columns)"
      ],
      "metadata": {
        "id": "QnUKB1wGfjv-",
        "colab": {
          "base_uri": "https://localhost:8080/"
        },
        "outputId": "9f8795fe-9af3-41ad-e7e2-130d2f22f01d"
      },
      "execution_count": 82,
      "outputs": [
        {
          "output_type": "stream",
          "name": "stdout",
          "text": [
            "Columns in df1: {'interactive', 'classification ', 'self blame', 'despair', 'distrust / confusion', 'urgency', 'transcriptConsumer', 'isPartial', 'loneliness', 'anxiety', 'firstConversation', 'emotional overflow', 'category'}\n",
            "Columns in df2: {'interactive', 'classification ', 'self blame', 'despair', 'distrust / confusion', 'urgency', 'transcriptConsumer', 'isPartial', 'loneliness', 'anxiety', 'firstConversation', 'emotional overflow', 'category'}\n",
            "Columns unique to df1: set()\n",
            "Columns unique to df2: set()\n",
            "Common columns: {'interactive', 'classification ', 'distrust / confusion', 'despair', 'self blame', 'urgency', 'transcriptConsumer', 'isPartial', 'loneliness', 'anxiety', 'firstConversation', 'emotional overflow', 'category'}\n"
          ]
        }
      ]
    },
    {
      "cell_type": "code",
      "source": [
        "combined_df = pd.concat([df_merged, classified_df], ignore_index=True)"
      ],
      "metadata": {
        "id": "5ceJWwY3f8eO"
      },
      "execution_count": 83,
      "outputs": []
    },
    {
      "cell_type": "code",
      "source": [
        "#combined_df = combined_df.drop(columns=['category'])\n",
        "combined_df.to_csv('/content/alldatatagged.csv', encoding='utf-8')"
      ],
      "metadata": {
        "id": "rc2n8AiYf-4Q"
      },
      "execution_count": 84,
      "outputs": []
    }
  ]
}